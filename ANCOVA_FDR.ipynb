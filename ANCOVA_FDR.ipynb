{
 "cells": [
  {
   "cell_type": "code",
   "execution_count": 1,
   "metadata": {},
   "outputs": [],
   "source": [
    "import pandas as pd\n",
    "import numpy as np\n",
    "import pingouin as pg\n",
    "import random\n",
    "import statsmodels.stats.multitest as multi"
   ]
  },
  {
   "cell_type": "code",
   "execution_count": 2,
   "metadata": {},
   "outputs": [],
   "source": [
    "def ancova_pg (data, dv, between, covar, fdr = 0.05):\n",
    "    \"\"\"\n",
    "    Analysis of covariance (ANCOVA) (pg.ancova), long data format, multiple hypothesis testing corrected by Benjamini-Hochberg.\n",
    "    Note that column name of dv shouldn't contain '\\t'\n",
    "    \"data\": should be long data format, with protein ID as index.\n",
    "    \"dv\": Name of column containing the dependant variable.\n",
    "    \"between\": Name of column containing the between factor.\n",
    "    \"covar\": Name(s) of column(s) containing the covariate. \n",
    "    More refer to: https://pingouin-stats.org/generated/pingouin.ancova.html\n",
    "    \"\"\"\n",
    "    columns = ['protein', 'Source', 'SS', 'DF', 'F', 'p-unc']\n",
    "    scores = pd.DataFrame(columns = columns)\n",
    "    for i in list(set(data.index)):\n",
    "        df_ancova = data.loc[i]\n",
    "        ancova = pg.ancova(data = df_ancova, dv = dv, between = between, covar = covar)\n",
    "        num_covar = len(covar)\n",
    "        ancova['protein'] = i\n",
    "        scores = scores.append(ancova, sort= False)\n",
    "    scores = scores.assign(new_column = lambda x: -np.log10(scores['p-unc']), sort=False)\n",
    "    scores = scores.rename({'new_column' : '-Log pvalue'}, axis = 1)\n",
    "    scores = scores[scores.Source != 'Residual']\n",
    "    \n",
    "    #FDR correction\n",
    "    reject, qvalue = multi.fdrcorrection(scores['p-unc'], alpha=0.05, method='indep')\n",
    "    scores['qvalue'] = qvalue\n",
    "    scores['rejected'] = reject\n",
    "    return scores"
   ]
  },
  {
   "cell_type": "markdown",
   "metadata": {},
   "source": [
    "### Prepare demo dataset"
   ]
  },
  {
   "cell_type": "code",
   "execution_count": 3,
   "metadata": {},
   "outputs": [],
   "source": [
    "cols = ['Sample_' + str(i) for i in range(12)]\n",
    "index = ['Protein_'+ str(i) for i in range(5)]\n",
    "data_demo = pd.DataFrame(np.random.randint(6, 12, 60).reshape(5, 12), \n",
    "                         columns = cols, index = index)\n",
    "\n",
    "experimental_annotation = pd.DataFrame({'Sample ID':cols, \n",
    "                                       'age':np.random.randint(40, 50, 12),\n",
    "                                       'gender':np.random.randint(0, 2, 12), \n",
    "                                       'group':[random.choice('ABC') for i in range(12)]})"
   ]
  },
  {
   "cell_type": "code",
   "execution_count": 4,
   "metadata": {},
   "outputs": [],
   "source": [
    "data_demo_long = pd.melt(data_demo, value_vars = list(data_demo.columns), value_name = 'Intensity')\n",
    "data_demo_long['Protein ID'] = np.tile(data_demo.index, data_demo.shape[1])\n",
    "data_demo_long.set_index('Protein ID', inplace=True)\n",
    "data_demo_long.rename({'variable':'Sample ID'}, axis = 1, inplace=True)\n",
    "\n",
    "for i in ['age', 'gender', 'group']:\n",
    "    df = experimental_annotation.copy()\n",
    "    dict_map = dict(zip(df['Sample ID'], df[i]))\n",
    "    data_demo_long[i] = data_demo_long['Sample ID'].map(dict_map)"
   ]
  },
  {
   "cell_type": "markdown",
   "metadata": {},
   "source": [
    "- Your dataset has to fit the same format"
   ]
  },
  {
   "cell_type": "code",
   "execution_count": 5,
   "metadata": {},
   "outputs": [
    {
     "data": {
      "text/html": [
       "<div>\n",
       "<style scoped>\n",
       "    .dataframe tbody tr th:only-of-type {\n",
       "        vertical-align: middle;\n",
       "    }\n",
       "\n",
       "    .dataframe tbody tr th {\n",
       "        vertical-align: top;\n",
       "    }\n",
       "\n",
       "    .dataframe thead th {\n",
       "        text-align: right;\n",
       "    }\n",
       "</style>\n",
       "<table border=\"1\" class=\"dataframe\">\n",
       "  <thead>\n",
       "    <tr style=\"text-align: right;\">\n",
       "      <th></th>\n",
       "      <th>Sample ID</th>\n",
       "      <th>Intensity</th>\n",
       "      <th>age</th>\n",
       "      <th>gender</th>\n",
       "      <th>group</th>\n",
       "    </tr>\n",
       "    <tr>\n",
       "      <th>Protein ID</th>\n",
       "      <th></th>\n",
       "      <th></th>\n",
       "      <th></th>\n",
       "      <th></th>\n",
       "      <th></th>\n",
       "    </tr>\n",
       "  </thead>\n",
       "  <tbody>\n",
       "    <tr>\n",
       "      <th>Protein_0</th>\n",
       "      <td>Sample_0</td>\n",
       "      <td>11</td>\n",
       "      <td>45</td>\n",
       "      <td>0</td>\n",
       "      <td>A</td>\n",
       "    </tr>\n",
       "    <tr>\n",
       "      <th>Protein_1</th>\n",
       "      <td>Sample_0</td>\n",
       "      <td>6</td>\n",
       "      <td>45</td>\n",
       "      <td>0</td>\n",
       "      <td>A</td>\n",
       "    </tr>\n",
       "    <tr>\n",
       "      <th>Protein_2</th>\n",
       "      <td>Sample_0</td>\n",
       "      <td>7</td>\n",
       "      <td>45</td>\n",
       "      <td>0</td>\n",
       "      <td>A</td>\n",
       "    </tr>\n",
       "    <tr>\n",
       "      <th>Protein_3</th>\n",
       "      <td>Sample_0</td>\n",
       "      <td>7</td>\n",
       "      <td>45</td>\n",
       "      <td>0</td>\n",
       "      <td>A</td>\n",
       "    </tr>\n",
       "    <tr>\n",
       "      <th>Protein_4</th>\n",
       "      <td>Sample_0</td>\n",
       "      <td>6</td>\n",
       "      <td>45</td>\n",
       "      <td>0</td>\n",
       "      <td>A</td>\n",
       "    </tr>\n",
       "  </tbody>\n",
       "</table>\n",
       "</div>"
      ],
      "text/plain": [
       "           Sample ID  Intensity  age  gender group\n",
       "Protein ID                                        \n",
       "Protein_0   Sample_0         11   45       0     A\n",
       "Protein_1   Sample_0          6   45       0     A\n",
       "Protein_2   Sample_0          7   45       0     A\n",
       "Protein_3   Sample_0          7   45       0     A\n",
       "Protein_4   Sample_0          6   45       0     A"
      ]
     },
     "execution_count": 5,
     "metadata": {},
     "output_type": "execute_result"
    }
   ],
   "source": [
    "data_demo_long.head()"
   ]
  },
  {
   "cell_type": "markdown",
   "metadata": {},
   "source": [
    "### Perform ANCOVA"
   ]
  },
  {
   "cell_type": "code",
   "execution_count": 6,
   "metadata": {},
   "outputs": [
    {
     "data": {
      "text/html": [
       "<div>\n",
       "<style scoped>\n",
       "    .dataframe tbody tr th:only-of-type {\n",
       "        vertical-align: middle;\n",
       "    }\n",
       "\n",
       "    .dataframe tbody tr th {\n",
       "        vertical-align: top;\n",
       "    }\n",
       "\n",
       "    .dataframe thead th {\n",
       "        text-align: right;\n",
       "    }\n",
       "</style>\n",
       "<table border=\"1\" class=\"dataframe\">\n",
       "  <thead>\n",
       "    <tr style=\"text-align: right;\">\n",
       "      <th></th>\n",
       "      <th>protein</th>\n",
       "      <th>Source</th>\n",
       "      <th>SS</th>\n",
       "      <th>DF</th>\n",
       "      <th>F</th>\n",
       "      <th>p-unc</th>\n",
       "      <th>-Log pvalue</th>\n",
       "      <th>sort</th>\n",
       "      <th>qvalue</th>\n",
       "      <th>rejected</th>\n",
       "    </tr>\n",
       "  </thead>\n",
       "  <tbody>\n",
       "    <tr>\n",
       "      <th>0</th>\n",
       "      <td>Protein_3</td>\n",
       "      <td>group</td>\n",
       "      <td>11.815</td>\n",
       "      <td>2</td>\n",
       "      <td>2.148</td>\n",
       "      <td>0.187371</td>\n",
       "      <td>0.727297</td>\n",
       "      <td>False</td>\n",
       "      <td>0.676993</td>\n",
       "      <td>False</td>\n",
       "    </tr>\n",
       "    <tr>\n",
       "      <th>1</th>\n",
       "      <td>Protein_3</td>\n",
       "      <td>age</td>\n",
       "      <td>1.344</td>\n",
       "      <td>1</td>\n",
       "      <td>0.489</td>\n",
       "      <td>0.507040</td>\n",
       "      <td>0.294957</td>\n",
       "      <td>False</td>\n",
       "      <td>0.854062</td>\n",
       "      <td>False</td>\n",
       "    </tr>\n",
       "    <tr>\n",
       "      <th>2</th>\n",
       "      <td>Protein_3</td>\n",
       "      <td>gender</td>\n",
       "      <td>2.714</td>\n",
       "      <td>1</td>\n",
       "      <td>0.987</td>\n",
       "      <td>0.353656</td>\n",
       "      <td>0.451418</td>\n",
       "      <td>False</td>\n",
       "      <td>0.757835</td>\n",
       "      <td>False</td>\n",
       "    </tr>\n",
       "    <tr>\n",
       "      <th>0</th>\n",
       "      <td>Protein_1</td>\n",
       "      <td>group</td>\n",
       "      <td>8.580</td>\n",
       "      <td>2</td>\n",
       "      <td>1.695</td>\n",
       "      <td>0.251023</td>\n",
       "      <td>0.600287</td>\n",
       "      <td>False</td>\n",
       "      <td>0.676993</td>\n",
       "      <td>False</td>\n",
       "    </tr>\n",
       "    <tr>\n",
       "      <th>1</th>\n",
       "      <td>Protein_1</td>\n",
       "      <td>age</td>\n",
       "      <td>0.016</td>\n",
       "      <td>1</td>\n",
       "      <td>0.006</td>\n",
       "      <td>0.938364</td>\n",
       "      <td>0.027629</td>\n",
       "      <td>False</td>\n",
       "      <td>0.999693</td>\n",
       "      <td>False</td>\n",
       "    </tr>\n",
       "  </tbody>\n",
       "</table>\n",
       "</div>"
      ],
      "text/plain": [
       "     protein  Source      SS DF      F     p-unc  -Log pvalue   sort  \\\n",
       "0  Protein_3   group  11.815  2  2.148  0.187371     0.727297  False   \n",
       "1  Protein_3     age   1.344  1  0.489  0.507040     0.294957  False   \n",
       "2  Protein_3  gender   2.714  1  0.987  0.353656     0.451418  False   \n",
       "0  Protein_1   group   8.580  2  1.695  0.251023     0.600287  False   \n",
       "1  Protein_1     age   0.016  1  0.006  0.938364     0.027629  False   \n",
       "\n",
       "     qvalue  rejected  \n",
       "0  0.676993     False  \n",
       "1  0.854062     False  \n",
       "2  0.757835     False  \n",
       "0  0.676993     False  \n",
       "1  0.999693     False  "
      ]
     },
     "execution_count": 6,
     "metadata": {},
     "output_type": "execute_result"
    }
   ],
   "source": [
    "result = ancova_pg(data=data_demo_long, dv='Intensity', \n",
    "                   between='group', covar=['age', 'gender'])\n",
    "result.head()"
   ]
  },
  {
   "cell_type": "markdown",
   "metadata": {},
   "source": [
    "### Difference between ANCOVA and ANOVA\n",
    "- ANCOVA allows to statistically control for linear effects of covariates by partitioning out variation attributed to the respective covariate. \n",
    "- The difference in summary table between ANCOVA and One-way ANOVA is that the values of sums of squares and within-group degree of freedom has been adjusted, hence also the F-ratio. "
   ]
  },
  {
   "cell_type": "markdown",
   "metadata": {},
   "source": [
    "#### An example"
   ]
  },
  {
   "cell_type": "markdown",
   "metadata": {},
   "source": [
    "- ANCOVA"
   ]
  },
  {
   "cell_type": "code",
   "execution_count": 7,
   "metadata": {},
   "outputs": [
    {
     "data": {
      "text/html": [
       "<div>\n",
       "<style scoped>\n",
       "    .dataframe tbody tr th:only-of-type {\n",
       "        vertical-align: middle;\n",
       "    }\n",
       "\n",
       "    .dataframe tbody tr th {\n",
       "        vertical-align: top;\n",
       "    }\n",
       "\n",
       "    .dataframe thead th {\n",
       "        text-align: right;\n",
       "    }\n",
       "</style>\n",
       "<table border=\"1\" class=\"dataframe\">\n",
       "  <thead>\n",
       "    <tr style=\"text-align: right;\">\n",
       "      <th></th>\n",
       "      <th>Source</th>\n",
       "      <th>SS</th>\n",
       "      <th>DF</th>\n",
       "      <th>F</th>\n",
       "      <th>p-unc</th>\n",
       "    </tr>\n",
       "  </thead>\n",
       "  <tbody>\n",
       "    <tr>\n",
       "      <th>0</th>\n",
       "      <td>group</td>\n",
       "      <td>0.397</td>\n",
       "      <td>2</td>\n",
       "      <td>0.067</td>\n",
       "      <td>0.935393</td>\n",
       "    </tr>\n",
       "    <tr>\n",
       "      <th>1</th>\n",
       "      <td>gender</td>\n",
       "      <td>6.190</td>\n",
       "      <td>1</td>\n",
       "      <td>2.101</td>\n",
       "      <td>0.190471</td>\n",
       "    </tr>\n",
       "    <tr>\n",
       "      <th>2</th>\n",
       "      <td>age</td>\n",
       "      <td>4.211</td>\n",
       "      <td>1</td>\n",
       "      <td>1.429</td>\n",
       "      <td>0.270797</td>\n",
       "    </tr>\n",
       "    <tr>\n",
       "      <th>3</th>\n",
       "      <td>Residual</td>\n",
       "      <td>20.622</td>\n",
       "      <td>7</td>\n",
       "      <td>NaN</td>\n",
       "      <td>NaN</td>\n",
       "    </tr>\n",
       "  </tbody>\n",
       "</table>\n",
       "</div>"
      ],
      "text/plain": [
       "     Source      SS  DF      F     p-unc\n",
       "0     group   0.397   2  0.067  0.935393\n",
       "1    gender   6.190   1  2.101  0.190471\n",
       "2       age   4.211   1  1.429  0.270797\n",
       "3  Residual  20.622   7    NaN       NaN"
      ]
     },
     "execution_count": 7,
     "metadata": {},
     "output_type": "execute_result"
    }
   ],
   "source": [
    "df = data_demo_long.copy()\n",
    "pg.ancova(data = df.loc['Protein_2'], dv='Intensity',\n",
    "         between='group', covar=['gender', 'age'])"
   ]
  },
  {
   "cell_type": "markdown",
   "metadata": {},
   "source": [
    "- ANOVA"
   ]
  },
  {
   "cell_type": "code",
   "execution_count": 8,
   "metadata": {},
   "outputs": [
    {
     "data": {
      "text/html": [
       "<div>\n",
       "<style scoped>\n",
       "    .dataframe tbody tr th:only-of-type {\n",
       "        vertical-align: middle;\n",
       "    }\n",
       "\n",
       "    .dataframe tbody tr th {\n",
       "        vertical-align: top;\n",
       "    }\n",
       "\n",
       "    .dataframe thead th {\n",
       "        text-align: right;\n",
       "    }\n",
       "</style>\n",
       "<table border=\"1\" class=\"dataframe\">\n",
       "  <thead>\n",
       "    <tr style=\"text-align: right;\">\n",
       "      <th></th>\n",
       "      <th>Source</th>\n",
       "      <th>ddof1</th>\n",
       "      <th>ddof2</th>\n",
       "      <th>F</th>\n",
       "      <th>p-unc</th>\n",
       "      <th>np2</th>\n",
       "    </tr>\n",
       "  </thead>\n",
       "  <tbody>\n",
       "    <tr>\n",
       "      <th>0</th>\n",
       "      <td>group</td>\n",
       "      <td>2</td>\n",
       "      <td>9</td>\n",
       "      <td>0.411</td>\n",
       "      <td>0.674806</td>\n",
       "      <td>0.084</td>\n",
       "    </tr>\n",
       "  </tbody>\n",
       "</table>\n",
       "</div>"
      ],
      "text/plain": [
       "  Source  ddof1  ddof2      F     p-unc    np2\n",
       "0  group      2      9  0.411  0.674806  0.084"
      ]
     },
     "execution_count": 8,
     "metadata": {},
     "output_type": "execute_result"
    }
   ],
   "source": [
    "pg.anova(data = df.loc['Protein_2'], dv='Intensity',\n",
    "         between=['group'])"
   ]
  }
 ],
 "metadata": {
  "kernelspec": {
   "display_name": "Python 3",
   "language": "python",
   "name": "python3"
  },
  "language_info": {
   "codemirror_mode": {
    "name": "ipython",
    "version": 3
   },
   "file_extension": ".py",
   "mimetype": "text/x-python",
   "name": "python",
   "nbconvert_exporter": "python",
   "pygments_lexer": "ipython3",
   "version": "3.7.0"
  }
 },
 "nbformat": 4,
 "nbformat_minor": 2
}
